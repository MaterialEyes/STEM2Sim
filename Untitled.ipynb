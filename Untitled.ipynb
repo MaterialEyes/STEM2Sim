{
 "cells": [
  {
   "cell_type": "markdown",
   "metadata": {},
   "source": [
    "# STEM2Sim_TMP\n",
    "\n",
    "## Turtorial to start with Image Retrieval\n",
    "\n",
    "### 1. Prerequsition:\n",
    "\n",
    "Download the Atomagined dataset from https://github.com/MaterialEyes/atomagined\n",
    "\n",
    "\n",
    "### 2. Reference to start with:\n",
    "\n",
    "[1] A Simple Framework for Contrastive Learning of Visual Representations\n",
    "\n",
    "http://proceedings.mlr.press/v119/chen20j/chen20j.pdf\n",
    "\n",
    "\n",
    "[2] Supervised Contrastive Learning\n",
    "\n",
    "https://proceedings.neurips.cc/paper/2020/hash/d89a66c7c80a29b1bdbab0f2a1a94af8-Abstract.html\n",
    "\n",
    "\n",
    "[3] Self-supervised Learning: Generative or Contrastive\n",
    "\n",
    "https://ieeexplore.ieee.org/abstract/document/9462394\n",
    "\n",
    "\n",
    "[4] Contrastive Representation Learning: A Framework and Review\n",
    "\n",
    "https://ieeexplore.ieee.org/abstract/document/9462394\n",
    "\n",
    "\n",
    "### 3. set up virtual environment (if it does not work, install package manually follow the list in the STEM2Sim.yml file)\n",
    "\n",
    "```bash\n",
    "conda env create -f STEM2Sim.yml\n",
    "``` \n",
    "\n",
    "\n",
    "### 4. run the demo-test.ipynb to validate if the installed virtual environment works\n",
    "\n",
    "### 5. play with demo-train.ipynb for model training\n"
   ]
  },
  {
   "cell_type": "code",
   "execution_count": null,
   "metadata": {},
   "outputs": [],
   "source": []
  }
 ],
 "metadata": {
  "kernelspec": {
   "display_name": "Python 3",
   "language": "python",
   "name": "python3"
  },
  "language_info": {
   "codemirror_mode": {
    "name": "ipython",
    "version": 3
   },
   "file_extension": ".py",
   "mimetype": "text/x-python",
   "name": "python",
   "nbconvert_exporter": "python",
   "pygments_lexer": "ipython3",
   "version": "3.8.3"
  }
 },
 "nbformat": 4,
 "nbformat_minor": 4
}
